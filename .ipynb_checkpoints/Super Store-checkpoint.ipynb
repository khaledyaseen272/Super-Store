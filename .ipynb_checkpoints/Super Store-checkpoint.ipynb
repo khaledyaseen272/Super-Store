{
 "cells": [
  {
   "cell_type": "markdown",
   "id": "ordinary-poverty",
   "metadata": {},
   "source": [
    "# Project: Super Store Sales\n",
    "\n",
    "## Table of Contents\n",
    "<ul>\n",
    "<li><a href=\"#intro\">Introduction</a></li>\n",
    "<li><a href=\"#Wrangling\">Data Wrangling</a></li>\n",
    "<li><a href=\"#Exploratory\">Exploratory Data Analysis</a></li>\n",
    "<li><a href=\"#conclusions\">Explanatory And Conclusions</a></li>\n",
    "</ul>"
   ]
  },
  {
   "cell_type": "markdown",
   "id": "comfortable-rental",
   "metadata": {},
   "source": [
    "<a id='intro'></a>\n",
    "## Introduction\n",
    "\n",
    "> I will analyze and explore Superstore Dataset which contains about 17000 observations and 26 variables From Jan 2010 to Dec 2013 for 3 departments: furniture, technolgy, and office suppliers. I used this dataset for practice. In this project, I will use Python in the wrangling and exploratory Processes and I will use Tableau for the explanatory process and visualizations. I will gather the dataset from the CSV file to the jupyter Notebook then I will do the wrangling process to handle the limitations and started to explore the data programmatically with Python. After cleaning the data to be ready for the explanatory process, I will export the cleaned data to CSV File then I will load it to Tableau."
   ]
  },
  {
   "cell_type": "code",
   "execution_count": 27,
   "id": "suspended-furniture",
   "metadata": {},
   "outputs": [],
   "source": [
    "import numpy as np\n",
    "import pandas as pd\n",
    "import matplotlib.pyplot as plt\n",
    "import seaborn as sb\n",
    "%matplotlib inline\n",
    "from scipy import stats\n",
    "import datetime"
   ]
  },
  {
   "cell_type": "markdown",
   "id": "particular-contamination",
   "metadata": {},
   "source": [
    "<a id='wrangling'></a>\n",
    "## Data Wrangling"
   ]
  },
  {
   "cell_type": "code",
   "execution_count": 28,
   "id": "structural-theater",
   "metadata": {},
   "outputs": [
    {
     "name": "stdout",
     "output_type": "stream",
     "text": [
      "(16798, 26)\n"
     ]
    },
    {
     "data": {
      "text/html": [
       "<div>\n",
       "<style scoped>\n",
       "    .dataframe tbody tr th:only-of-type {\n",
       "        vertical-align: middle;\n",
       "    }\n",
       "\n",
       "    .dataframe tbody tr th {\n",
       "        vertical-align: top;\n",
       "    }\n",
       "\n",
       "    .dataframe thead th {\n",
       "        text-align: right;\n",
       "    }\n",
       "</style>\n",
       "<table border=\"1\" class=\"dataframe\">\n",
       "  <thead>\n",
       "    <tr style=\"text-align: right;\">\n",
       "      <th></th>\n",
       "      <th>Row</th>\n",
       "      <th>Order Priority</th>\n",
       "      <th>Order Date</th>\n",
       "      <th>Order</th>\n",
       "      <th>Discount</th>\n",
       "      <th>Unit Price</th>\n",
       "      <th>Order Quantity</th>\n",
       "      <th>Sales</th>\n",
       "      <th>Profit</th>\n",
       "      <th>Shipping Cost</th>\n",
       "      <th>...</th>\n",
       "      <th>Customer_ID</th>\n",
       "      <th>Customer Name</th>\n",
       "      <th>Region</th>\n",
       "      <th>State</th>\n",
       "      <th>Country / Region</th>\n",
       "      <th>City</th>\n",
       "      <th>Postal Code</th>\n",
       "      <th>Ship Date</th>\n",
       "      <th>Ship Mode</th>\n",
       "      <th>SubRegion</th>\n",
       "    </tr>\n",
       "  </thead>\n",
       "  <tbody>\n",
       "    <tr>\n",
       "      <th>9289</th>\n",
       "      <td>9290</td>\n",
       "      <td>Not Specified</td>\n",
       "      <td>02/07/2012</td>\n",
       "      <td>38950</td>\n",
       "      <td>3%</td>\n",
       "      <td>9.0</td>\n",
       "      <td>41</td>\n",
       "      <td>357.93</td>\n",
       "      <td>191.57</td>\n",
       "      <td>4.0</td>\n",
       "      <td>...</td>\n",
       "      <td>2541</td>\n",
       "      <td>Amy Harris</td>\n",
       "      <td>Latam</td>\n",
       "      <td>Rio de Janeiro</td>\n",
       "      <td>Brazil</td>\n",
       "      <td>Rio de Janeiro</td>\n",
       "      <td>NaN</td>\n",
       "      <td>05/07/2012</td>\n",
       "      <td>Regular Air</td>\n",
       "      <td>NaN</td>\n",
       "    </tr>\n",
       "    <tr>\n",
       "      <th>4747</th>\n",
       "      <td>4748</td>\n",
       "      <td>Low</td>\n",
       "      <td>13/05/2011</td>\n",
       "      <td>87702</td>\n",
       "      <td>0%</td>\n",
       "      <td>31.0</td>\n",
       "      <td>15</td>\n",
       "      <td>465.00</td>\n",
       "      <td>169.00</td>\n",
       "      <td>17.0</td>\n",
       "      <td>...</td>\n",
       "      <td>418</td>\n",
       "      <td>Lester Cho</td>\n",
       "      <td>North America</td>\n",
       "      <td>California</td>\n",
       "      <td>United States of America</td>\n",
       "      <td>San Mateo</td>\n",
       "      <td>94403.0</td>\n",
       "      <td>17/05/2011</td>\n",
       "      <td>Regular Air</td>\n",
       "      <td>West                                          ...</td>\n",
       "    </tr>\n",
       "    <tr>\n",
       "      <th>9827</th>\n",
       "      <td>9828</td>\n",
       "      <td>Low</td>\n",
       "      <td>21/08/2012</td>\n",
       "      <td>90365</td>\n",
       "      <td>95%</td>\n",
       "      <td>112.0</td>\n",
       "      <td>19</td>\n",
       "      <td>106.40</td>\n",
       "      <td>-749.96</td>\n",
       "      <td>69.0</td>\n",
       "      <td>...</td>\n",
       "      <td>734</td>\n",
       "      <td>Esther Gill Norman</td>\n",
       "      <td>North America</td>\n",
       "      <td>Massachusetts</td>\n",
       "      <td>United States of America</td>\n",
       "      <td>Weymouth</td>\n",
       "      <td>2190.0</td>\n",
       "      <td>28/08/2012</td>\n",
       "      <td>Regular Air</td>\n",
       "      <td>East                                          ...</td>\n",
       "    </tr>\n",
       "    <tr>\n",
       "      <th>9653</th>\n",
       "      <td>9654</td>\n",
       "      <td>Not Specified</td>\n",
       "      <td>06/08/2012</td>\n",
       "      <td>36196</td>\n",
       "      <td>7%</td>\n",
       "      <td>5.0</td>\n",
       "      <td>14</td>\n",
       "      <td>65.10</td>\n",
       "      <td>35.90</td>\n",
       "      <td>4.0</td>\n",
       "      <td>...</td>\n",
       "      <td>699</td>\n",
       "      <td>Jenny Gold</td>\n",
       "      <td>North America</td>\n",
       "      <td>California</td>\n",
       "      <td>United States of America</td>\n",
       "      <td>Los Angeles</td>\n",
       "      <td>90041.0</td>\n",
       "      <td>08/08/2012</td>\n",
       "      <td>Regular Air</td>\n",
       "      <td>West                                          ...</td>\n",
       "    </tr>\n",
       "    <tr>\n",
       "      <th>6952</th>\n",
       "      <td>6953</td>\n",
       "      <td>Critical</td>\n",
       "      <td>04/12/2011</td>\n",
       "      <td>27746</td>\n",
       "      <td>4%</td>\n",
       "      <td>500.0</td>\n",
       "      <td>6</td>\n",
       "      <td>2880.00</td>\n",
       "      <td>936.00</td>\n",
       "      <td>24.0</td>\n",
       "      <td>...</td>\n",
       "      <td>1617</td>\n",
       "      <td>Karl S Johnson</td>\n",
       "      <td>Latam</td>\n",
       "      <td>Distrito Federal</td>\n",
       "      <td>Mexico</td>\n",
       "      <td>Mexico City</td>\n",
       "      <td>NaN</td>\n",
       "      <td>04/12/2011</td>\n",
       "      <td>Regular Air</td>\n",
       "      <td>NaN</td>\n",
       "    </tr>\n",
       "  </tbody>\n",
       "</table>\n",
       "<p>5 rows × 26 columns</p>\n",
       "</div>"
      ],
      "text/plain": [
       "       Row Order Priority  Order Date  Order Discount  Unit Price  \\\n",
       "9289  9290  Not Specified  02/07/2012  38950       3%         9.0   \n",
       "4747  4748            Low  13/05/2011  87702       0%        31.0   \n",
       "9827  9828            Low  21/08/2012  90365      95%       112.0   \n",
       "9653  9654  Not Specified  06/08/2012  36196       7%         5.0   \n",
       "6952  6953       Critical  04/12/2011  27746       4%       500.0   \n",
       "\n",
       "      Order Quantity    Sales  Profit  Shipping Cost  ... Customer_ID  \\\n",
       "9289              41   357.93  191.57            4.0  ...        2541   \n",
       "4747              15   465.00  169.00           17.0  ...         418   \n",
       "9827              19   106.40 -749.96           69.0  ...         734   \n",
       "9653              14    65.10   35.90            4.0  ...         699   \n",
       "6952               6  2880.00  936.00           24.0  ...        1617   \n",
       "\n",
       "           Customer Name         Region             State  \\\n",
       "9289          Amy Harris          Latam    Rio de Janeiro   \n",
       "4747          Lester Cho  North America        California   \n",
       "9827  Esther Gill Norman  North America     Massachusetts   \n",
       "9653          Jenny Gold  North America        California   \n",
       "6952      Karl S Johnson          Latam  Distrito Federal   \n",
       "\n",
       "              Country / Region            City  Postal Code   Ship Date  \\\n",
       "9289                    Brazil  Rio de Janeiro          NaN  05/07/2012   \n",
       "4747  United States of America       San Mateo      94403.0  17/05/2011   \n",
       "9827  United States of America        Weymouth       2190.0  28/08/2012   \n",
       "9653  United States of America     Los Angeles      90041.0  08/08/2012   \n",
       "6952                    Mexico     Mexico City          NaN  04/12/2011   \n",
       "\n",
       "        Ship Mode                                          SubRegion  \n",
       "9289  Regular Air                                                NaN  \n",
       "4747  Regular Air  West                                          ...  \n",
       "9827  Regular Air  East                                          ...  \n",
       "9653  Regular Air  West                                          ...  \n",
       "6952  Regular Air                                                NaN  \n",
       "\n",
       "[5 rows x 26 columns]"
      ]
     },
     "execution_count": 28,
     "metadata": {},
     "output_type": "execute_result"
    }
   ],
   "source": [
    "Superstore = pd.read_csv('SuperstoreSalesTraining.csv')\n",
    "print(Superstore.shape)\n",
    "Superstore.sample(5)"
   ]
  },
  {
   "cell_type": "code",
   "execution_count": 29,
   "id": "blond-grass",
   "metadata": {},
   "outputs": [
    {
     "name": "stdout",
     "output_type": "stream",
     "text": [
      "<class 'pandas.core.frame.DataFrame'>\n",
      "RangeIndex: 16798 entries, 0 to 16797\n",
      "Data columns (total 26 columns):\n",
      " #   Column               Non-Null Count  Dtype  \n",
      "---  ------               --------------  -----  \n",
      " 0   Row                  16798 non-null  int64  \n",
      " 1   Order Priority       16798 non-null  object \n",
      " 2   Order Date           16798 non-null  object \n",
      " 3   Order                16798 non-null  int64  \n",
      " 4   Discount             16798 non-null  object \n",
      " 5   Unit Price           16798 non-null  float64\n",
      " 6   Order Quantity       16798 non-null  int64  \n",
      " 7   Sales                16798 non-null  float64\n",
      " 8   Profit               16798 non-null  float64\n",
      " 9   Shipping Cost        16798 non-null  float64\n",
      " 10  Product Base Margin  16798 non-null  object \n",
      " 11  Department           16798 non-null  object \n",
      " 12  Container            16798 non-null  object \n",
      " 13  Category             16798 non-null  object \n",
      " 14  Item                 16798 non-null  object \n",
      " 15  Customer Segment     16798 non-null  object \n",
      " 16  Customer_ID          16798 non-null  int64  \n",
      " 17  Customer Name        16798 non-null  object \n",
      " 18  Region               16798 non-null  object \n",
      " 19  State                16798 non-null  object \n",
      " 20  Country / Region     16798 non-null  object \n",
      " 21  City                 16798 non-null  object \n",
      " 22  Postal Code          9813 non-null   float64\n",
      " 23  Ship Date            16798 non-null  object \n",
      " 24  Ship Mode            16798 non-null  object \n",
      " 25  SubRegion            9482 non-null   object \n",
      "dtypes: float64(5), int64(4), object(17)\n",
      "memory usage: 3.3+ MB\n"
     ]
    }
   ],
   "source": [
    "Superstore.info()"
   ]
  },
  {
   "cell_type": "code",
   "execution_count": 30,
   "id": "super-supplier",
   "metadata": {},
   "outputs": [
    {
     "data": {
      "text/plain": [
       "0"
      ]
     },
     "execution_count": 30,
     "metadata": {},
     "output_type": "execute_result"
    }
   ],
   "source": [
    "# Checking the duplicated observations.\n",
    "\n",
    "Superstore.duplicated().sum()"
   ]
  },
  {
   "cell_type": "code",
   "execution_count": 31,
   "id": "helpful-imaging",
   "metadata": {},
   "outputs": [],
   "source": [
    "# Dropping the row-column because it is just an index for the row number.\n",
    "\n",
    "Superstore= Superstore.drop('Row', axis=1)"
   ]
  },
  {
   "cell_type": "code",
   "execution_count": 32,
   "id": "respective-young",
   "metadata": {},
   "outputs": [],
   "source": [
    "Superstore['Order'] = Superstore['Order'].astype('str')"
   ]
  },
  {
   "cell_type": "code",
   "execution_count": 33,
   "id": "wanted-lemon",
   "metadata": {},
   "outputs": [
    {
     "data": {
      "text/html": [
       "<div>\n",
       "<style scoped>\n",
       "    .dataframe tbody tr th:only-of-type {\n",
       "        vertical-align: middle;\n",
       "    }\n",
       "\n",
       "    .dataframe tbody tr th {\n",
       "        vertical-align: top;\n",
       "    }\n",
       "\n",
       "    .dataframe thead th {\n",
       "        text-align: right;\n",
       "    }\n",
       "</style>\n",
       "<table border=\"1\" class=\"dataframe\">\n",
       "  <thead>\n",
       "    <tr style=\"text-align: right;\">\n",
       "      <th></th>\n",
       "      <th>Department</th>\n",
       "      <th>Container</th>\n",
       "      <th>Category</th>\n",
       "      <th>Item</th>\n",
       "      <th>Customer Segment</th>\n",
       "      <th>Customer_ID</th>\n",
       "    </tr>\n",
       "  </thead>\n",
       "  <tbody>\n",
       "    <tr>\n",
       "      <th>14592</th>\n",
       "      <td>Office Supplies</td>\n",
       "      <td>Small Box</td>\n",
       "      <td>Storage &amp; Organization</td>\n",
       "      <td>Eldon� Gobal File Keepers</td>\n",
       "      <td>Consumer</td>\n",
       "      <td>2331</td>\n",
       "    </tr>\n",
       "    <tr>\n",
       "      <th>12409</th>\n",
       "      <td>Office Supplies</td>\n",
       "      <td>Large Box</td>\n",
       "      <td>Storage &amp; Organization</td>\n",
       "      <td>Tennsco Snap-Together Open Shelving Units, Sta...</td>\n",
       "      <td>Consumer</td>\n",
       "      <td>3098</td>\n",
       "    </tr>\n",
       "    <tr>\n",
       "      <th>3382</th>\n",
       "      <td>Office Supplies</td>\n",
       "      <td>Medium Box</td>\n",
       "      <td>Appliances</td>\n",
       "      <td>Bionaire Personal Warm Mist Humidifier/Vaporizer</td>\n",
       "      <td>Small Business</td>\n",
       "      <td>1415</td>\n",
       "    </tr>\n",
       "    <tr>\n",
       "      <th>7663</th>\n",
       "      <td>Office Supplies</td>\n",
       "      <td>Small Box</td>\n",
       "      <td>Paper</td>\n",
       "      <td>Xerox Blank Computer Paper</td>\n",
       "      <td>Consumer</td>\n",
       "      <td>1742</td>\n",
       "    </tr>\n",
       "    <tr>\n",
       "      <th>146</th>\n",
       "      <td>Technology</td>\n",
       "      <td>Small Box</td>\n",
       "      <td>Computer Peripherals</td>\n",
       "      <td>Targus USB Numeric Keypad</td>\n",
       "      <td>Consumer</td>\n",
       "      <td>2068</td>\n",
       "    </tr>\n",
       "  </tbody>\n",
       "</table>\n",
       "</div>"
      ],
      "text/plain": [
       "            Department   Container                Category  \\\n",
       "14592  Office Supplies   Small Box  Storage & Organization   \n",
       "12409  Office Supplies   Large Box  Storage & Organization   \n",
       "3382   Office Supplies  Medium Box              Appliances   \n",
       "7663   Office Supplies   Small Box                   Paper   \n",
       "146         Technology   Small Box    Computer Peripherals   \n",
       "\n",
       "                                                    Item Customer Segment  \\\n",
       "14592                          Eldon� Gobal File Keepers         Consumer   \n",
       "12409  Tennsco Snap-Together Open Shelving Units, Sta...         Consumer   \n",
       "3382    Bionaire Personal Warm Mist Humidifier/Vaporizer   Small Business   \n",
       "7663                          Xerox Blank Computer Paper         Consumer   \n",
       "146                            Targus USB Numeric Keypad         Consumer   \n",
       "\n",
       "       Customer_ID  \n",
       "14592         2331  \n",
       "12409         3098  \n",
       "3382          1415  \n",
       "7663          1742  \n",
       "146           2068  "
      ]
     },
     "execution_count": 33,
     "metadata": {},
     "output_type": "execute_result"
    }
   ],
   "source": [
    "# Showing the unseen columns.\n",
    "\n",
    "hidden_Superstore = Superstore[['Department','Container','Category','Item','Customer Segment','Customer_ID']]\n",
    "hidden_Superstore.sample(5)"
   ]
  },
  {
   "cell_type": "code",
   "execution_count": 34,
   "id": "white-clock",
   "metadata": {},
   "outputs": [
    {
     "name": "stdout",
     "output_type": "stream",
     "text": [
      "<class 'pandas.core.frame.DataFrame'>\n",
      "RangeIndex: 16798 entries, 0 to 16797\n",
      "Data columns (total 25 columns):\n",
      " #   Column               Non-Null Count  Dtype  \n",
      "---  ------               --------------  -----  \n",
      " 0   Order Priority       16798 non-null  object \n",
      " 1   Order Date           16798 non-null  object \n",
      " 2   Order                16798 non-null  object \n",
      " 3   Discount             16798 non-null  object \n",
      " 4   Unit Price           16798 non-null  float64\n",
      " 5   Order Quantity       16798 non-null  int64  \n",
      " 6   Sales                16798 non-null  float64\n",
      " 7   Profit               16798 non-null  float64\n",
      " 8   Shipping Cost        16798 non-null  float64\n",
      " 9   Product Base Margin  16798 non-null  object \n",
      " 10  Department           16798 non-null  object \n",
      " 11  Container            16798 non-null  object \n",
      " 12  Category             16798 non-null  object \n",
      " 13  Item                 16798 non-null  object \n",
      " 14  Customer Segment     16798 non-null  object \n",
      " 15  Customer_ID          16798 non-null  int64  \n",
      " 16  Customer Name        16798 non-null  object \n",
      " 17  Region               16798 non-null  object \n",
      " 18  State                16798 non-null  object \n",
      " 19  Country / Region     16798 non-null  object \n",
      " 20  City                 16798 non-null  object \n",
      " 21  Postal Code          9813 non-null   float64\n",
      " 22  Ship Date            16798 non-null  object \n",
      " 23  Ship Mode            16798 non-null  object \n",
      " 24  SubRegion            9482 non-null   object \n",
      "dtypes: float64(5), int64(2), object(18)\n",
      "memory usage: 3.2+ MB\n"
     ]
    }
   ],
   "source": [
    "Superstore.info()"
   ]
  },
  {
   "cell_type": "code",
   "execution_count": 35,
   "id": "novel-anxiety",
   "metadata": {},
   "outputs": [],
   "source": [
    "# Converting the date columns to datetype.\n",
    "\n",
    "Superstore['Order Date'] = pd.to_datetime(Superstore['Order Date'], dayfirst=True).astype('datetime64[ns]')\n",
    "Superstore['Ship Date'] = pd.to_datetime(Superstore['Ship Date'], dayfirst=True).astype('datetime64[ns]')"
   ]
  },
  {
   "cell_type": "code",
   "execution_count": 36,
   "id": "urban-blocking",
   "metadata": {},
   "outputs": [],
   "source": [
    "# Converting the other columns to the correct datatype.\n",
    "\n",
    "Superstore['Postal Code'] = Superstore['Postal Code'].astype('str')\n",
    "Superstore['Order Priority'] = Superstore['Order Priority'].astype('category')\n",
    "Superstore['Order'] = Superstore['Order'].astype('str')\n",
    "Superstore['Department'] = Superstore['Department'].astype('category')\n",
    "Superstore['Container'] = Superstore['Container'].astype('category')\n",
    "Superstore['Category'] = Superstore['Category'].astype('category')\n",
    "Superstore['Customer Segment'] = Superstore['Customer Segment'].astype('category')\n",
    "Superstore['Customer_ID'] = Superstore['Customer_ID'].astype('str')\n",
    "Superstore['Region'] = Superstore['Region'].astype('category')\n",
    "Superstore['Ship Mode'] = Superstore['Ship Mode'].astype('category')\n",
    "Superstore['SubRegion'] = Superstore['SubRegion'].astype('category')"
   ]
  },
  {
   "cell_type": "code",
   "execution_count": 37,
   "id": "automotive-defensive",
   "metadata": {},
   "outputs": [
    {
     "data": {
      "text/html": [
       "<div>\n",
       "<style scoped>\n",
       "    .dataframe tbody tr th:only-of-type {\n",
       "        vertical-align: middle;\n",
       "    }\n",
       "\n",
       "    .dataframe tbody tr th {\n",
       "        vertical-align: top;\n",
       "    }\n",
       "\n",
       "    .dataframe thead th {\n",
       "        text-align: right;\n",
       "    }\n",
       "</style>\n",
       "<table border=\"1\" class=\"dataframe\">\n",
       "  <thead>\n",
       "    <tr style=\"text-align: right;\">\n",
       "      <th></th>\n",
       "      <th>Order Priority</th>\n",
       "      <th>Order Date</th>\n",
       "      <th>Order</th>\n",
       "      <th>Discount</th>\n",
       "      <th>Unit Price</th>\n",
       "      <th>Order Quantity</th>\n",
       "      <th>Sales</th>\n",
       "      <th>Profit</th>\n",
       "      <th>Shipping Cost</th>\n",
       "      <th>Product Base Margin</th>\n",
       "      <th>...</th>\n",
       "      <th>Customer_ID</th>\n",
       "      <th>Customer Name</th>\n",
       "      <th>Region</th>\n",
       "      <th>State</th>\n",
       "      <th>Country / Region</th>\n",
       "      <th>City</th>\n",
       "      <th>Postal Code</th>\n",
       "      <th>Ship Date</th>\n",
       "      <th>Ship Mode</th>\n",
       "      <th>SubRegion</th>\n",
       "    </tr>\n",
       "  </thead>\n",
       "  <tbody>\n",
       "    <tr>\n",
       "      <th>15260</th>\n",
       "      <td>High</td>\n",
       "      <td>2013-09-15</td>\n",
       "      <td>32640</td>\n",
       "      <td>4%</td>\n",
       "      <td>7.0</td>\n",
       "      <td>38</td>\n",
       "      <td>255.36</td>\n",
       "      <td>82.78</td>\n",
       "      <td>5.0</td>\n",
       "      <td>37.00%</td>\n",
       "      <td>...</td>\n",
       "      <td>2659</td>\n",
       "      <td>Sherri Baker</td>\n",
       "      <td>EMEA</td>\n",
       "      <td>Tuscany</td>\n",
       "      <td>Italy</td>\n",
       "      <td>Florence</td>\n",
       "      <td>nan</td>\n",
       "      <td>2013-09-17</td>\n",
       "      <td>Regular Air</td>\n",
       "      <td>NaN</td>\n",
       "    </tr>\n",
       "    <tr>\n",
       "      <th>3395</th>\n",
       "      <td>Critical</td>\n",
       "      <td>2010-12-26</td>\n",
       "      <td>89176</td>\n",
       "      <td>0%</td>\n",
       "      <td>13.0</td>\n",
       "      <td>19</td>\n",
       "      <td>247.00</td>\n",
       "      <td>86.39</td>\n",
       "      <td>5.0</td>\n",
       "      <td>37.00%</td>\n",
       "      <td>...</td>\n",
       "      <td>2197</td>\n",
       "      <td>Karen O'Donnell</td>\n",
       "      <td>North America</td>\n",
       "      <td>New York</td>\n",
       "      <td>United States of America</td>\n",
       "      <td>Levittown</td>\n",
       "      <td>11756.0</td>\n",
       "      <td>2010-12-27</td>\n",
       "      <td>Regular Air</td>\n",
       "      <td>East                                          ...</td>\n",
       "    </tr>\n",
       "    <tr>\n",
       "      <th>2648</th>\n",
       "      <td>Low</td>\n",
       "      <td>2010-10-04</td>\n",
       "      <td>87260</td>\n",
       "      <td>10%</td>\n",
       "      <td>2.0</td>\n",
       "      <td>3</td>\n",
       "      <td>5.40</td>\n",
       "      <td>-2.30</td>\n",
       "      <td>5.0</td>\n",
       "      <td>55.00%</td>\n",
       "      <td>...</td>\n",
       "      <td>975</td>\n",
       "      <td>Francis Evans</td>\n",
       "      <td>North America</td>\n",
       "      <td>Massachusetts</td>\n",
       "      <td>United States of America</td>\n",
       "      <td>Boston</td>\n",
       "      <td>2108.0</td>\n",
       "      <td>2010-10-09</td>\n",
       "      <td>Regular Air</td>\n",
       "      <td>East                                          ...</td>\n",
       "    </tr>\n",
       "    <tr>\n",
       "      <th>350</th>\n",
       "      <td>Not Specified</td>\n",
       "      <td>2010-01-31</td>\n",
       "      <td>52416</td>\n",
       "      <td>5%</td>\n",
       "      <td>8.0</td>\n",
       "      <td>6</td>\n",
       "      <td>45.60</td>\n",
       "      <td>8.88</td>\n",
       "      <td>6.0</td>\n",
       "      <td>36.00%</td>\n",
       "      <td>...</td>\n",
       "      <td>909</td>\n",
       "      <td>Alexandra Lopez</td>\n",
       "      <td>Latam</td>\n",
       "      <td>Minas Gerais</td>\n",
       "      <td>Brazil</td>\n",
       "      <td>Belo Horizonte</td>\n",
       "      <td>nan</td>\n",
       "      <td>2010-02-02</td>\n",
       "      <td>Regular Air</td>\n",
       "      <td>NaN</td>\n",
       "    </tr>\n",
       "    <tr>\n",
       "      <th>16420</th>\n",
       "      <td>Critical</td>\n",
       "      <td>2013-12-03</td>\n",
       "      <td>91528</td>\n",
       "      <td>2%</td>\n",
       "      <td>13.0</td>\n",
       "      <td>25</td>\n",
       "      <td>318.50</td>\n",
       "      <td>185.50</td>\n",
       "      <td>3.0</td>\n",
       "      <td>60.00%</td>\n",
       "      <td>...</td>\n",
       "      <td>324</td>\n",
       "      <td>Lester Stuart</td>\n",
       "      <td>North America</td>\n",
       "      <td>Minnesota</td>\n",
       "      <td>United States of America</td>\n",
       "      <td>Roseville</td>\n",
       "      <td>55113.0</td>\n",
       "      <td>2013-12-05</td>\n",
       "      <td>Regular Air</td>\n",
       "      <td>Central                                       ...</td>\n",
       "    </tr>\n",
       "  </tbody>\n",
       "</table>\n",
       "<p>5 rows × 25 columns</p>\n",
       "</div>"
      ],
      "text/plain": [
       "      Order Priority Order Date  Order Discount  Unit Price  Order Quantity  \\\n",
       "15260           High 2013-09-15  32640       4%         7.0              38   \n",
       "3395        Critical 2010-12-26  89176       0%        13.0              19   \n",
       "2648             Low 2010-10-04  87260      10%         2.0               3   \n",
       "350    Not Specified 2010-01-31  52416       5%         8.0               6   \n",
       "16420       Critical 2013-12-03  91528       2%        13.0              25   \n",
       "\n",
       "        Sales  Profit  Shipping Cost Product Base Margin  ... Customer_ID  \\\n",
       "15260  255.36   82.78            5.0              37.00%  ...        2659   \n",
       "3395   247.00   86.39            5.0              37.00%  ...        2197   \n",
       "2648     5.40   -2.30            5.0              55.00%  ...         975   \n",
       "350     45.60    8.88            6.0              36.00%  ...         909   \n",
       "16420  318.50  185.50            3.0              60.00%  ...         324   \n",
       "\n",
       "         Customer Name         Region          State  \\\n",
       "15260     Sherri Baker           EMEA        Tuscany   \n",
       "3395   Karen O'Donnell  North America       New York   \n",
       "2648     Francis Evans  North America  Massachusetts   \n",
       "350    Alexandra Lopez          Latam   Minas Gerais   \n",
       "16420    Lester Stuart  North America      Minnesota   \n",
       "\n",
       "               Country / Region            City Postal Code  Ship Date  \\\n",
       "15260                     Italy        Florence         nan 2013-09-17   \n",
       "3395   United States of America       Levittown     11756.0 2010-12-27   \n",
       "2648   United States of America          Boston      2108.0 2010-10-09   \n",
       "350                      Brazil  Belo Horizonte         nan 2010-02-02   \n",
       "16420  United States of America       Roseville     55113.0 2013-12-05   \n",
       "\n",
       "         Ship Mode                                          SubRegion  \n",
       "15260  Regular Air                                                NaN  \n",
       "3395   Regular Air  East                                          ...  \n",
       "2648   Regular Air  East                                          ...  \n",
       "350    Regular Air                                                NaN  \n",
       "16420  Regular Air  Central                                       ...  \n",
       "\n",
       "[5 rows x 25 columns]"
      ]
     },
     "execution_count": 37,
     "metadata": {},
     "output_type": "execute_result"
    }
   ],
   "source": [
    "Superstore.sample(5)"
   ]
  },
  {
   "cell_type": "markdown",
   "id": "opposed-fireplace",
   "metadata": {},
   "source": [
    "<a id='Exploratory'></a>\n",
    "## Exploratory Data Analysis"
   ]
  },
  {
   "cell_type": "code",
   "execution_count": 38,
   "id": "paperback-rochester",
   "metadata": {},
   "outputs": [
    {
     "data": {
      "text/plain": [
       "High             3536\n",
       "Low              3440\n",
       "Not Specified    3344\n",
       "Medium           3262\n",
       "Critical         3216\n",
       "Name: Order Priority, dtype: int64"
      ]
     },
     "execution_count": 38,
     "metadata": {},
     "output_type": "execute_result"
    }
   ],
   "source": [
    "Superstore['Order Priority'].value_counts(ascending = False)"
   ]
  },
  {
   "cell_type": "code",
   "execution_count": 39,
   "id": "complex-alloy",
   "metadata": {},
   "outputs": [
    {
     "data": {
      "text/plain": [
       "Office Supplies    9220\n",
       "Technology         4130\n",
       "Furniture          3448\n",
       "Name: Department, dtype: int64"
      ]
     },
     "execution_count": 39,
     "metadata": {},
     "output_type": "execute_result"
    }
   ],
   "source": [
    "Superstore['Department'].value_counts(ascending = False)"
   ]
  },
  {
   "cell_type": "code",
   "execution_count": 40,
   "id": "powerful-commerce",
   "metadata": {},
   "outputs": [
    {
     "data": {
      "text/plain": [
       "Small Box     8694\n",
       "Wrap Bag      2336\n",
       "Small Pack    1912\n",
       "Jumbo Drum    1248\n",
       "Jumbo Box     1064\n",
       "Large Box      812\n",
       "Medium Box     732\n",
       "Name: Container, dtype: int64"
      ]
     },
     "execution_count": 40,
     "metadata": {},
     "output_type": "execute_result"
    }
   ],
   "source": [
    "Superstore['Container'].value_counts(ascending = False)"
   ]
  },
  {
   "cell_type": "code",
   "execution_count": 41,
   "id": "honest-revolution",
   "metadata": {},
   "outputs": [
    {
     "data": {
      "text/plain": [
       "Paper                             2450\n",
       "Binders and Binder Accessories    1830\n",
       "Telephones and Communication      1766\n",
       "Office Furnishings                1576\n",
       "Computer Peripherals              1516\n",
       "Pens & Art Supplies               1266\n",
       "Storage & Organization            1092\n",
       "Appliances                         868\n",
       "Chairs & Chairmats                 772\n",
       "Tables                             722\n",
       "Office Machines                    674\n",
       "Labels                             576\n",
       "Envelopes                          492\n",
       "Bookcases                          378\n",
       "Rubber Bands                       358\n",
       "Scissors, Rulers and Trimmers      288\n",
       "Copiers and Fax                    174\n",
       "Name: Category, dtype: int64"
      ]
     },
     "execution_count": 41,
     "metadata": {},
     "output_type": "execute_result"
    }
   ],
   "source": [
    "Superstore['Category'].value_counts(ascending = False)"
   ]
  },
  {
   "cell_type": "code",
   "execution_count": 42,
   "id": "continued-payday",
   "metadata": {},
   "outputs": [
    {
     "data": {
      "text/plain": [
       "Corporate         6152\n",
       "Home Office       4064\n",
       "Consumer          3298\n",
       "Small Business    3284\n",
       "Name: Customer Segment, dtype: int64"
      ]
     },
     "execution_count": 42,
     "metadata": {},
     "output_type": "execute_result"
    }
   ],
   "source": [
    "Superstore['Customer Segment'].value_counts(ascending = False)"
   ]
  },
  {
   "cell_type": "code",
   "execution_count": 43,
   "id": "prospective-contest",
   "metadata": {},
   "outputs": [
    {
     "data": {
      "text/plain": [
       "North America    9482\n",
       "AsiaPac          3802\n",
       "EMEA             1894\n",
       "Latam            1620\n",
       "Name: Region, dtype: int64"
      ]
     },
     "execution_count": 43,
     "metadata": {},
     "output_type": "execute_result"
    }
   ],
   "source": [
    "Superstore['Region'].value_counts(ascending = False)"
   ]
  },
  {
   "cell_type": "code",
   "execution_count": 44,
   "id": "veterinary-particle",
   "metadata": {},
   "outputs": [
    {
     "data": {
      "text/plain": [
       "California                  1021\n",
       "Texas                        646\n",
       "Illinois                     584\n",
       "New York                     574\n",
       "Florida                      522\n",
       "Guangdong Sheng              417\n",
       "Ohio                         396\n",
       "Province de Buenos Aires     341\n",
       "Michigan                     327\n",
       "Washington                   327\n",
       "Name: State, dtype: int64"
      ]
     },
     "execution_count": 44,
     "metadata": {},
     "output_type": "execute_result"
    }
   ],
   "source": [
    "Superstore['State'].value_counts(ascending = False).head(10)"
   ]
  },
  {
   "cell_type": "code",
   "execution_count": 45,
   "id": "automated-ultimate",
   "metadata": {},
   "outputs": [
    {
     "data": {
      "text/plain": [
       "United States of America    9426\n",
       "China                       1257\n",
       "India                        746\n",
       "Brazil                       672\n",
       "Japan                        507\n",
       "Mexico                       388\n",
       "Argentina                    341\n",
       "Republic of Korea            325\n",
       "Egypt                        265\n",
       "France                       242\n",
       "Name: Country / Region, dtype: int64"
      ]
     },
     "execution_count": 45,
     "metadata": {},
     "output_type": "execute_result"
    }
   ],
   "source": [
    "Superstore['Country / Region'].value_counts(ascending = False).head(10)"
   ]
  },
  {
   "cell_type": "code",
   "execution_count": 46,
   "id": "accepted-relations",
   "metadata": {},
   "outputs": [
    {
     "data": {
      "text/plain": [
       "Regular Air       12540\n",
       "Delivery Truck     2292\n",
       "Express Air        1966\n",
       "Name: Ship Mode, dtype: int64"
      ]
     },
     "execution_count": 46,
     "metadata": {},
     "output_type": "execute_result"
    }
   ],
   "source": [
    "Superstore['Ship Mode'].value_counts(ascending = False)"
   ]
  },
  {
   "cell_type": "code",
   "execution_count": 47,
   "id": "aggregate-stranger",
   "metadata": {},
   "outputs": [
    {
     "data": {
      "text/plain": [
       "Central                                                                                                                                                                                                                                                            2899\n",
       "East                                                                                                                                                                                                                                                               2289\n",
       "West                                                                                                                                                                                                                                                               2284\n",
       "South                                                                                                                                                                                                                                                              1954\n",
       "Canada                                                                                                                                                                                                                                                               56\n",
       "Name: SubRegion, dtype: int64"
      ]
     },
     "execution_count": 47,
     "metadata": {},
     "output_type": "execute_result"
    }
   ],
   "source": [
    "Superstore['SubRegion'].value_counts(ascending = False)"
   ]
  },
  {
   "cell_type": "code",
   "execution_count": 48,
   "id": "broken-allowance",
   "metadata": {},
   "outputs": [],
   "source": [
    "# Converting the Discount & Product Base Margin to floats instead of objects.\n",
    "\n",
    "Superstore['Discount'] = Superstore['Discount'].str.rstrip('%').astype('float') / 100.0\n",
    "Superstore['Product Base Margin'] = Superstore['Product Base Margin'].str.rstrip('%').astype('float') / 100.0"
   ]
  },
  {
   "cell_type": "code",
   "execution_count": null,
   "id": "clinical-signal",
   "metadata": {},
   "outputs": [],
   "source": [
    "print(Superstore.shape)\n",
    "Superstore.sample(5)"
   ]
  },
  {
   "cell_type": "code",
   "execution_count": null,
   "id": "acting-newspaper",
   "metadata": {},
   "outputs": [],
   "source": [
    "hidden_Superstore = Superstore[['Department','Container','Category','Item','Customer Segment','Customer_ID']]\n",
    "hidden_Superstore.sample(5)"
   ]
  },
  {
   "cell_type": "code",
   "execution_count": null,
   "id": "ordinary-science",
   "metadata": {},
   "outputs": [],
   "source": [
    "Superstore.info()"
   ]
  },
  {
   "cell_type": "code",
   "execution_count": null,
   "id": "renewable-bundle",
   "metadata": {},
   "outputs": [],
   "source": [
    "# Storing the cleaed dataset\n",
    "\n",
    "Superstore.to_csv('Super Store.csv', index=False)"
   ]
  },
  {
   "cell_type": "markdown",
   "id": "excited-fitness",
   "metadata": {},
   "source": [
    "<a id='conclusions'></a>\n",
    "## Explanatory And Conclusions\n",
    "\n",
    "### Almost, The datasets were redy and I did small cleaning operations. After cleaning the data i started to pose questions and analyze data Throght Tableau to find answers.\n",
    "\n",
    "##### Q1: What is the most Country in total Profit?\n",
    "- USA is the highest country made the largest total profit for the super store with about 4.1 million dollars then China with about 1.8 million dollars.\n",
    "\n",
    "##### Q2: USA is the largest Country in Total orders in different Cities, Is USA Is the largest Country in Avg profit Also?\n",
    "- No, USA is not the largest, USA has Avg profit 437 dollars per order for 9426 Orders, The largest in Avg is Moroco with 2383 dollars per order for only 22 orders then 2284 dollars per order for only 45 orders then norway with 2162 dollars per order for only 11 orders. From the map the middle east and the eauropean countries  have high avg profit values, Also China has 1429 Avg profit per order for 1257 orders and that is a high order Count so I think the superstore should make a true interest for other countries like the interest for USA! . But there is an important queation for the shipping cost for these countries!\n",
    "\n",
    "##### Q3: What is the Avg shipping cost for countries and is there a gap difference in the cost from USA?\n",
    "- The Avg shipping cost for USA 12.81 dollars per order, For Moroco 12.86 dollars!, For iraq 15.8, For Norway 24.09, For china 13.28, For ukraine 11.25 dollars which has Avg profit 2027 dollars per orders for only 24 orders, For algeria only 8.17 dollars which has Avg profit 1379 dollars per order for only 18 orders. so, I think the superstoere should to target other markets beside the united states!.\n",
    "\n",
    "##### Q4: What are the cities with the highest profit?\n",
    "- The first one is Buenos Aires from Argentia with total profit 560,000 dollars then Guangzhou From China with 535,000 dollars, Cairo comes in the 5th place with 366,000 dollars!. the first city comes from USA is Los Anglos in the 11th place with total profit 286,000 dollars. And that is another evidence that the superstore should expand to another marketplaces.\n",
    "\n",
    "##### Q5: Which item has the largest in the profit and in which department?\n",
    "- The item of global troy of excutive leather low back tilter in the furniture department has the most totaal total profit of 277,000 dollars and its orders count are 34 orders with Avg product base margin is 0.6. The department of furniture has the biggest share in the highest items in profit!\n",
    "\n",
    "##### Q6: What is the largest category and department in profit?\n",
    "- The telephones and communications in the technology department has the largest profit with 2,436,000 dollars and its order counts are 1766 orders with avg product base margin 0.58.\n",
    "\n",
    "##### Q7: What are the order count perctiles for departments?\n",
    "- The furniture has 39.61%, the technolgy has 38.68%, and the office suppliers has 21.71%.\n",
    "\n",
    "##### Q8: What is the total profit for each departmesnt?\n",
    "- The furniture has 5,870,000 dollars, the technolgy has 5,731,000 dollars, and the office suppliers has 3,217,000.\n",
    "\n",
    "##### Q9: What is the Avg product margin for each department?\n",
    "- The furniture has 0.5837, the technolgy has 0.5515, and the office suppliers has 0.4468.\n",
    "\n",
    "##### 10: What is the Avg Unit Price for each department?\n",
    "- The technolgy is the largest with 181.4 dollars then the furniture with 121.5 dollars then the office suppliers with 36.1 doolars per order.\n",
    "\n",
    "##### 11: What is the category is the largest in the Avg Unit Price?\n",
    "- It is copiers and fax from the technolgy department with 746 dollars then technolgy&oofice machines also from the technolgy department with 565.7 dollars per order.\n",
    "\n",
    "##### 12: When did the largest profit happen and in each category? In that perid, Is this category has the largest number in order count?\n",
    "- The largest profit happened in Nov 2012 with total profit 164,000 dollars and only 20 orders in tables category but in this month paper has the largest number in order counts with 54 orders and 6874 dollars!.The largest order count happened in Oct 2013 with 95 orders and only total profit 12,882 dollars! but in this month telephones and communication has the largest profits 82,299 and only 38 orders!. In general paper has the largest order counts over years, the largest profit varies between furniture and technology categories over years, and almost the largest profit happens in Nov from every year!. Wow, This led me to check is there are discounts in december?\n",
    "\n",
    "##### 13: How the discounts were over year and there were special discounts in november?\n",
    "- Another surprise for me, Tables has largest discounts over years with a gab from other categories!. But i didn't found any special discounts in november!. (See Q15)\n",
    "\n",
    "##### 14: For Departments, What was the time anlaysis?\n",
    "- Like the output from Categories, Office suppliers has the largest number in order counts, the most happened in Oct 2013 with 299 orders. The furniture and technology have the largest number in profit and the largest profit happened for furniture in Nov 2012 With total 365,000 dollars.\n",
    "\n",
    "##### 15: What are the average discount profit and order counts for different discounts?\n",
    "- Another insight supporst the insight from Q13, Only tables and furnishings have discounts over than 10% . All other categories thier discounts less than 10%.\n",
    "\n",
    "##### 16: What are the largest category in Avg Shipping cost per orders?\n",
    "- As expexted, Furniture categories are the largest With Avg 30.89 dollars for order, Tables is the highest in Avg Shipping cost with 57,36 dollars. Technology and office supplies almost the same in avg Shipping cost\n",
    "\n",
    "##### 17: What are customer segment percentiles?\n",
    "- Corporate with 36.8% of order counts, Home Office with 24.1%, Small business with 19.74%, then Consumer with 19.36%.\n",
    "\n",
    "##### Q18: What is the total profit from each custome segment?\n",
    "- Superstore got from Corporate with 5,453,000 dollars, From Home Office customers 3,572,000 dollars, From Small business 2,925 dollars, From Consumer 2,869,000 dollars. \n",
    "##### 19: When did the largest profit happen from customers and from which customer? In that perid, Is this customer has the largest number in order count?\n",
    "- The Largest profit came from Corporate in Nov 2012 with total profit 274,000 dollars more little than small business in the same month which has 267,000 dollars, And Yes Corporate has the largest order counts in the same month with 197 orders. In general corporate has the largest profit and order counts over years.\n",
    "\n",
    "##### 20: Who is the customer with the largest profit ?\n",
    "- It is Joan Oakley Shaafer corporate with total profit 107,000 dollars and it has 26 orders. \n",
    "\n",
    "##### 21: What are the average delivery periods for different order priorities ?\n",
    "- Low Priority takes more than 4 days to deliver the orders. Other priorities took form 1 to 2 days.\n",
    "\n",
    "##### 22: What are the percentiles for different order priorities ?\n",
    "- Almost the same range from 19 to 21% for the 4 priorities.\n",
    "\n",
    "##### 23: What are the profit percentiles for different order priorities ?\n",
    "- It ranges from 17 to 23.5% for the 4 priorities.\n",
    "\n",
    "##### 24: What are the containers percentiles ?\n",
    "- Small Box is the largest with more than 50% in compared to the other containers.\n",
    "\n",
    "##### 25: What are the value and the average unite price for goods inside containers ?\n",
    "- large box contain the most valuable goods with average unite price 347.5 dollars.\n",
    "\n",
    "##### 26: What are the ship mode percentiles ?\n",
    "- Regular air is the largest with almost 75%.\n",
    "\n",
    "##### 27: What are the  avg shipping cost for ship modes ?\n",
    "- Delivery Truck is the largest with 45.39 Dollars for Avg cost.\n",
    "\n",
    "##### 28: What do the  ship mode and department  occur most?\n",
    "- It is small box in regular air happened almost 750 times.\n",
    "\n",
    "##### 29: What are the correlations between order quantity, shipping cost and profit?\n",
    "- They are postive correlations.\n",
    "\n",
    "##### 30: What Is the most popular Unit Price range?\n",
    "- It is from 0 to 1000 dollars.\n",
    "\n",
    "##### 30: What Is the most popular Product base margin range?\n",
    "- It is from 0.35 to 0.65 and the most profit occurres on products base margin from 0.55 to 0.6.\n",
    "\n",
    "##### 31: What Is the relation between product margins and Avg discount?\n",
    "- I finish the report with the last insightful finding, the product with high margins above 0.6 release high discounts to encourage buying especially in the furniture department. \n",
    "\n",
    "\n",
    "\n"
   ]
  },
  {
   "cell_type": "code",
   "execution_count": null,
   "id": "urban-prophet",
   "metadata": {},
   "outputs": [],
   "source": []
  }
 ],
 "metadata": {
  "kernelspec": {
   "display_name": "Python 3",
   "language": "python",
   "name": "python3"
  },
  "language_info": {
   "codemirror_mode": {
    "name": "ipython",
    "version": 3
   },
   "file_extension": ".py",
   "mimetype": "text/x-python",
   "name": "python",
   "nbconvert_exporter": "python",
   "pygments_lexer": "ipython3",
   "version": "3.8.8"
  }
 },
 "nbformat": 4,
 "nbformat_minor": 5
}
